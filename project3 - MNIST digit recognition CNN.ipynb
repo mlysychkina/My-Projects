{
 "cells": [
  {
   "cell_type": "raw",
   "metadata": {},
   "source": [
    "OBJECTIVE: train a classifier to recognize handwritten digits\n",
    "DATASET: MNIST handwritten digits dataset\n",
    "MODEL: convolutional neural network with 6 convolutional layers + 3 fully-connected layers\n",
    "OUTCOME: accuracy of 99.51% achieved on the test dataset "
   ]
  },
  {
   "cell_type": "code",
   "execution_count": 100,
   "metadata": {},
   "outputs": [],
   "source": [
    "import torch\n",
    "import torchvision\n",
    "import torch.nn.functional as F\n",
    "import torch.nn as nn\n",
    "\n",
    "from pytorch_lightning.metrics.functional import accuracy\n",
    "\n",
    "import matplotlib.pyplot as plt"
   ]
  },
  {
   "cell_type": "code",
   "execution_count": 101,
   "metadata": {},
   "outputs": [],
   "source": [
    "batch_size_train = 32\n",
    "batch_size_val = 1000\n",
    "batch_size_test = 1000"
   ]
  },
  {
   "cell_type": "code",
   "execution_count": 102,
   "metadata": {},
   "outputs": [],
   "source": [
    "# load the MNIST dataset\n",
    "# the global mean and standard deviation of the MNIST dataset - 0.1307 and 0.3081 \n",
    "# accordingly are used for data normalization \n",
    "\n",
    "train_dataset = torchvision.datasets.MNIST('/files/', download=True,\n",
    "                             transform=torchvision.transforms.Compose([\n",
    "                               torchvision.transforms.ToTensor(),\n",
    "                               torchvision.transforms.Normalize(\n",
    "                                 (0.1307,), (0.3081,))\n",
    "                             ]))\n",
    "\n",
    "test_loader = torch.utils.data.DataLoader(\n",
    "  torchvision.datasets.MNIST('/files/', train=False, download=True,\n",
    "                             transform=torchvision.transforms.Compose([\n",
    "                               torchvision.transforms.ToTensor(),\n",
    "                               torchvision.transforms.Normalize(\n",
    "                                 (0.1307,), (0.3081,))\n",
    "                             ])),\n",
    "  batch_size=batch_size_test, shuffle=True)\n",
    "\n",
    "# split train_dataset into train and validation datasets \n",
    "# create corresponding instances of DataLoader class\n",
    "\n",
    "train_dataset, val_dataset = torch.utils.data.random_split(train_dataset, \n",
    "                                                         [50000, 10000])\n",
    "train_loader = torch.utils.data.DataLoader(train_dataset, batch_size=batch_size_train, shuffle=True)\n",
    "val_loader = torch.utils.data.DataLoader(val_dataset, batch_size=batch_size_val, shuffle=True)"
   ]
  },
  {
   "cell_type": "code",
   "execution_count": 105,
   "metadata": {},
   "outputs": [],
   "source": [
    "# define a model\n",
    "\n",
    "class Model(nn.Module):\n",
    "    def __init__(self):\n",
    "        super(Model, self).__init__()\n",
    "        self.conv1 = torch.nn.Conv2d(1, 16, kernel_size=3, stride=1, padding=1)\n",
    "        self.bn1 = nn.BatchNorm2d(16)\n",
    "        self.conv2 = torch.nn.Conv2d(16, 32, kernel_size=3, stride=1, padding=1)\n",
    "        \n",
    "        self.pool1 = torch.nn.MaxPool2d(kernel_size=2, stride=2, padding=0)\n",
    "        \n",
    "        self.conv3 = torch.nn.Conv2d(32, 64, kernel_size=3, stride=1, padding=1)\n",
    "        self.bn2 = nn.BatchNorm2d(64)\n",
    "        self.conv4 = torch.nn.Conv2d(64, 64, kernel_size=2, stride=2, padding=0)\n",
    "        \n",
    "        self.pool2 = torch.nn.MaxPool2d(kernel_size=2, stride=2, padding=1)\n",
    "\n",
    "        self.conv5 = torch.nn.Conv2d(64, 128, kernel_size=3, stride=1, padding=1)\n",
    "        self.bn3 = nn.BatchNorm2d(128)\n",
    "        self.conv6 = torch.nn.Conv2d(128, 128, kernel_size=2, stride=2, padding=0)\n",
    "    \n",
    "        self.pool3 = torch.nn.MaxPool2d(kernel_size=2, stride=2, padding=0)\n",
    "        \n",
    "        self.fc1 = torch.nn.Linear(128*1*1, 64)\n",
    "        self.bn4 = nn.BatchNorm1d(64)\n",
    "        self.fc2 = torch.nn.Linear(64, 32)\n",
    "        self.bn5 = nn.BatchNorm1d(32)\n",
    "        self.fc3 = torch.nn.Linear(32, 10)\n",
    "        \n",
    "    def forward(self, x):\n",
    "        x = F.relu(self.bn1(self.conv1(x)))\n",
    "        x = F.relu(self.conv2(x))\n",
    "        \n",
    "        x = self.pool1(x)\n",
    "        \n",
    "        x = F.relu(self.bn2(self.conv3(x)))\n",
    "        x = F.relu(self.conv4(x))\n",
    "        \n",
    "        x = self.pool2(x)\n",
    "        \n",
    "        x = F.relu(self.bn3(self.conv5(x)))\n",
    "        x = F.relu(self.conv6(x))\n",
    "        \n",
    "        x = self.pool3(x)\n",
    "   \n",
    "        x = x.view(-1, 128*1*1)\n",
    "   \n",
    "        x = F.relu(self.bn4(self.fc1(x)))\n",
    "        x = F.relu(self.bn5(self.fc2(x)))\n",
    "        x = self.fc3(x)\n",
    "        \n",
    "        return x"
   ]
  },
  {
   "cell_type": "code",
   "execution_count": 113,
   "metadata": {},
   "outputs": [],
   "source": [
    "# a function that runs a training process for the neural network\n",
    "\n",
    "\n",
    "def train(model, train_loader):\n",
    "    \n",
    "    optimizer = torch.optim.SGD(model.parameters(), lr=0.01, momentum=0.9, weight_decay=0.0005)    \n",
    "    # to reduce learning rate on plateau the corresponding scheduler is applied\n",
    "    scheduler = torch.optim.lr_scheduler.ReduceLROnPlateau(optimizer, patience=1)\n",
    "    \n",
    "    epochs = 12\n",
    "    epoch_loss = [0]*epochs\n",
    "    epoch_accuracy = [0]*epochs\n",
    "        \n",
    "    train_losses = []\n",
    "    train_counter = []\n",
    "    log_interval = 15\n",
    "    \n",
    "    for e in range(epochs):\n",
    "        running_loss = 0\n",
    "        running_accuracy = 0\n",
    "        \n",
    "        for batch_idx, (images, labels) in enumerate(train_loader):\n",
    "          \n",
    "            optimizer.zero_grad()\n",
    "        \n",
    "            output = model(images)\n",
    "            loss = loss_fn(output, labels)\n",
    "        \n",
    "            loss.backward()\n",
    "            \n",
    "            optimizer.step()\n",
    "            \n",
    "            running_loss += loss.item()\n",
    "            \n",
    "            if batch_idx % log_interval == 0:\n",
    "                train_losses.append(loss.item())\n",
    "                train_counter.append((batch_idx*batch_size_train) + (e*len(train_loader.dataset)))\n",
    "                \n",
    "            running_accuracy += accuracy(F.softmax(output, dim=1), labels)\n",
    "        \n",
    "        val_loss, val_acc = test(model, val_loader)\n",
    "        scheduler.step(val_loss)\n",
    "            \n",
    "        epoch_loss[e] = running_loss/len(train_loader)\n",
    "        epoch_accuracy[e] = running_accuracy/len(train_loader)\n",
    "        \n",
    "        print(\"Epoch {} \\n Training: loss - {}, accuracy - {} \\n Validation: loss - {}, accuracy - {}\"\n",
    "              .format(e, epoch_loss[e], epoch_accuracy[e], val_loss, val_acc))\n",
    "        \n",
    "    \n",
    "    fig, (ax1, ax2) = plt.subplots(1,2)\n",
    "\n",
    "    fig.set_figwidth(20)\n",
    "    fig.set_figheight(7)\n",
    "\n",
    "    ax1.plot(range(epochs), epoch_loss)\n",
    "    ax2.plot(train_counter, train_losses)\n",
    "    \n",
    "    ax1.set(xlabel=\"Epoch\", ylabel=\"Loss\")\n",
    "    ax2.set(xlabel=\"Number of training examples seen\", ylabel=\"Loss\")\n"
   ]
  },
  {
   "cell_type": "code",
   "execution_count": 104,
   "metadata": {},
   "outputs": [],
   "source": [
    "# this function calculates a loss value and prediction accuracy\n",
    "# on the validation dataset\n",
    "\n",
    "def test(model, val_loader):\n",
    "    \n",
    "    running_loss = 0\n",
    "    running_accuracy = 0\n",
    "    \n",
    "    for images, labels in val_loader:\n",
    "        with torch.no_grad():\n",
    "            \n",
    "            output = model(images)\n",
    "            \n",
    "            running_loss += loss_fn(output, labels)\n",
    "            running_accuracy += accuracy(F.softmax(output, dim=1), labels)\n",
    "            \n",
    "    running_loss /= len(val_loader)\n",
    "    running_accuracy /= len(val_loader)\n",
    "    \n",
    "    return running_loss, running_accuracy"
   ]
  },
  {
   "cell_type": "code",
   "execution_count": 106,
   "metadata": {},
   "outputs": [],
   "source": [
    "loss_fn = nn.CrossEntropyLoss()"
   ]
  },
  {
   "cell_type": "code",
   "execution_count": 114,
   "metadata": {
    "scrolled": true
   },
   "outputs": [
    {
     "name": "stdout",
     "output_type": "stream",
     "text": [
      "Epoch 0 \n",
      " Training: loss - 0.1708425609733056, accuracy - 0.9534549117088318 \n",
      " Validation: loss - 0.05461393669247627, accuracy - 0.9842000007629395\n",
      "Epoch 1 \n",
      " Training: loss - 0.05903137953456203, accuracy - 0.9830654263496399 \n",
      " Validation: loss - 0.04248723387718201, accuracy - 0.987500011920929\n",
      "Epoch 2 \n",
      " Training: loss - 0.047025819172232426, accuracy - 0.9864243268966675 \n",
      " Validation: loss - 0.04175136610865593, accuracy - 0.9879999160766602\n",
      "Epoch 3 \n",
      " Training: loss - 0.03635476993926296, accuracy - 0.9897632598876953 \n",
      " Validation: loss - 0.032565198838710785, accuracy - 0.9904998540878296\n",
      "Epoch 4 \n",
      " Training: loss - 0.034155196974166295, accuracy - 0.990303099155426 \n",
      " Validation: loss - 0.03465449437499046, accuracy - 0.9901000261306763\n",
      "Epoch 5 \n",
      " Training: loss - 0.02774638016217359, accuracy - 0.9921424984931946 \n",
      " Validation: loss - 0.03321416303515434, accuracy - 0.9905999302864075\n",
      "Epoch 6 \n",
      " Training: loss - 0.015330494077563685, accuracy - 0.9958013296127319 \n",
      " Validation: loss - 0.021566366776823997, accuracy - 0.9937000274658203\n",
      "Epoch 7 \n",
      " Training: loss - 0.010447903521214769, accuracy - 0.9976207613945007 \n",
      " Validation: loss - 0.020208876579999924, accuracy - 0.9943000078201294\n",
      "Epoch 8 \n",
      " Training: loss - 0.009333027759008287, accuracy - 0.9979806542396545 \n",
      " Validation: loss - 0.020367015153169632, accuracy - 0.9945999979972839\n",
      "Epoch 9 \n",
      " Training: loss - 0.00818237231697849, accuracy - 0.9982605576515198 \n",
      " Validation: loss - 0.020211942493915558, accuracy - 0.9939999580383301\n",
      "Epoch 10 \n",
      " Training: loss - 0.007170519133793191, accuracy - 0.9987403750419617 \n",
      " Validation: loss - 0.020002003759145737, accuracy - 0.9945000410079956\n",
      "Epoch 11 \n",
      " Training: loss - 0.00707189009933192, accuracy - 0.9984604716300964 \n",
      " Validation: loss - 0.020122259855270386, accuracy - 0.9942000508308411\n"
     ]
    },
    {
     "data": {
      "image/png": "[encoded data removed]",
      "text/plain": [
       "<Figure size 1440x504 with 2 Axes>"
      ]
     },
     "metadata": {
      "needs_background": "light"
     },
     "output_type": "display_data"
    }
   ],
   "source": [
    "model = Model()  \n",
    "\n",
    "train(model, train_loader)"
   ]
  },
  {
   "cell_type": "code",
   "execution_count": 115,
   "metadata": {},
   "outputs": [
    {
     "name": "stdout",
     "output_type": "stream",
     "text": [
      "Test loss: 0.01800067350268364 - Test accuracy: 0.9951000213623047\n"
     ]
    }
   ],
   "source": [
    "test_loss, test_acc = test(model, test_loader)\n",
    "\n",
    "print(\"Test loss: {} - Test accuracy: {}\".format(test_loss, test_acc))"
   ]
  }
 ],
 "metadata": {
  "kernelspec": {
   "display_name": "Python 3",
   "language": "python",
   "name": "python3"
  },
  "language_info": {
   "codemirror_mode": {
    "name": "ipython",
    "version": 3
   },
   "file_extension": ".py",
   "mimetype": "text/x-python",
   "name": "python",
   "nbconvert_exporter": "python",
   "pygments_lexer": "ipython3",
   "version": "3.8.5"
  }
 },
 "nbformat": 4,
 "nbformat_minor": 4
}
