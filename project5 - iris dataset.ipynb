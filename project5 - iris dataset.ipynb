{
 "cells": [
  {
   "cell_type": "raw",
   "metadata": {},
   "source": [
    "OBJECTIVE: build a classifier to identify iris type\n",
    "DATASET: Iris dataset (sklearn library - pretty small dataset)\n",
    "MODEL: 1 - Decision Tree\n",
    "       2 - Random Forest\n",
    "       3 - LightGBM\n",
    "OUTCOME:  1 - Decision Tree accuracy 97.14%\n",
    "          2 - Random Forest accuracy 100%\n",
    "          3 - LightGBM accuracy 100%"
   ]
  },
  {
   "cell_type": "code",
   "execution_count": 1,
   "metadata": {
    "id": "RC4AAqYK-JXz"
   },
   "outputs": [],
   "source": [
    "from sklearn.datasets import load_iris\n",
    "from sklearn.preprocessing import StandardScaler\n",
    "\n",
    "import numpy as np\n",
    "\n",
    "import sklearn.metrics\n",
    "\n",
    "from sklearn import tree\n",
    "from sklearn import ensemble\n",
    "import lightgbm as lgb"
   ]
  },
  {
   "cell_type": "code",
   "execution_count": 2,
   "metadata": {
    "id": "E7_mwXd_-PgT"
   },
   "outputs": [],
   "source": [
    "# load the classic iris dataset\n",
    "\n",
    "iris = load_iris()\n",
    "\n",
    "X = iris['data']\n",
    "y = iris['target']"
   ]
  },
  {
   "cell_type": "code",
   "execution_count": 3,
   "metadata": {
    "id": "xjuZHATw_F5q"
   },
   "outputs": [],
   "source": [
    "def shuffle(X, y):\n",
    "    ind = np.arange(0, len(y))\n",
    "    np.random.shuffle(ind)\n",
    "    return [X[ind], y[ind]]"
   ]
  },
  {
   "cell_type": "code",
   "execution_count": 4,
   "metadata": {
    "id": "rXRAL8XHKqBN"
   },
   "outputs": [],
   "source": [
    "def accuracy(y_pred, y_true):\n",
    "    y_pred = np.array(y_pred)\n",
    "    y_true = np.array(y_true)\n",
    "    return np.sum(y_pred==y_true)/(y_pred.shape[0])"
   ]
  },
  {
   "cell_type": "code",
   "execution_count": 5,
   "metadata": {
    "id": "f7vPO3KL-6xd"
   },
   "outputs": [],
   "source": [
    "# scale data to have mean=0 and std=1 \n",
    "\n",
    "scaler = StandardScaler()\n",
    "X_scaled = scaler.fit_transform(X)\n",
    "\n",
    "# randomly shuffle the data\n",
    "X, y = shuffle(X_scaled, y)"
   ]
  },
  {
   "cell_type": "code",
   "execution_count": 6,
   "metadata": {
    "id": "yWee5aVM_L0V"
   },
   "outputs": [],
   "source": [
    "# split the data into train and test\n",
    "\n",
    "X_train = X[:115]\n",
    "y_train = y[:115]\n",
    "\n",
    "X_test = X[115:]\n",
    "y_test = y[115:]"
   ]
  },
  {
   "cell_type": "code",
   "execution_count": 7,
   "metadata": {
    "id": "Yn14Ihaf_ZQg"
   },
   "outputs": [],
   "source": [
    "# create decision tree and fit it on the data\n",
    "\n",
    "clf_dt = tree.DecisionTreeClassifier()\n",
    "clf_dt = clf_dt.fit(X_train, y_train)"
   ]
  },
  {
   "cell_type": "code",
   "execution_count": 8,
   "metadata": {
    "colab": {
     "base_uri": "https://localhost:8080/",
     "height": 285
    },
    "id": "3mcODmw2ArZA",
    "outputId": "d8cd9ec8-f828-449d-ac1e-03b1cd7401b4"
   },
   "outputs": [
    {
     "name": "stdout",
     "output_type": "stream",
     "text": [
      "[Text(167.4, 195.696, 'X[3] <= -0.526\\ngini = 0.667\\nsamples = 115\\nvalue = [38, 38, 39]'), Text(141.64615384615385, 152.208, 'gini = 0.0\\nsamples = 38\\nvalue = [38, 0, 0]'), Text(193.15384615384616, 152.208, 'X[3] <= 0.725\\ngini = 0.5\\nsamples = 77\\nvalue = [0, 38, 39]'), Text(103.01538461538462, 108.72, 'X[2] <= 0.678\\ngini = 0.176\\nsamples = 41\\nvalue = [0, 37, 4]'), Text(51.50769230769231, 65.232, 'X[3] <= 0.593\\ngini = 0.054\\nsamples = 36\\nvalue = [0, 35, 1]'), Text(25.753846153846155, 21.744, 'gini = 0.0\\nsamples = 35\\nvalue = [0, 35, 0]'), Text(77.26153846153846, 21.744, 'gini = 0.0\\nsamples = 1\\nvalue = [0, 0, 1]'), Text(154.52307692307693, 65.232, 'X[3] <= 0.462\\ngini = 0.48\\nsamples = 5\\nvalue = [0, 2, 3]'), Text(128.76923076923077, 21.744, 'gini = 0.0\\nsamples = 3\\nvalue = [0, 0, 3]'), Text(180.27692307692308, 21.744, 'gini = 0.0\\nsamples = 2\\nvalue = [0, 2, 0]'), Text(283.2923076923077, 108.72, 'X[2] <= 0.621\\ngini = 0.054\\nsamples = 36\\nvalue = [0, 1, 35]'), Text(257.53846153846155, 65.232, 'X[1] <= 0.098\\ngini = 0.5\\nsamples = 2\\nvalue = [0, 1, 1]'), Text(231.7846153846154, 21.744, 'gini = 0.0\\nsamples = 1\\nvalue = [0, 0, 1]'), Text(283.2923076923077, 21.744, 'gini = 0.0\\nsamples = 1\\nvalue = [0, 1, 0]'), Text(309.04615384615386, 65.232, 'gini = 0.0\\nsamples = 34\\nvalue = [0, 0, 34]')]\n"
     ]
    },
    {
     "data": {
      "image/png": "[encoded data removed]",
      "text/plain": [
       "<Figure size 432x288 with 1 Axes>"
      ]
     },
     "metadata": {
      "needs_background": "light",
      "tags": []
     },
     "output_type": "display_data"
    }
   ],
   "source": [
    "print(tree.plot_tree(clf_dt))"
   ]
  },
  {
   "cell_type": "code",
   "execution_count": 9,
   "metadata": {
    "id": "tkWR_ojHBEke"
   },
   "outputs": [],
   "source": [
    "y_pred_dt = clf_dt.predict(X_test)"
   ]
  },
  {
   "cell_type": "code",
   "execution_count": 10,
   "metadata": {
    "colab": {
     "base_uri": "https://localhost:8080/"
    },
    "id": "9RdAQtknBwpk",
    "outputId": "7de785c7-d45a-4952-895f-fd79bf014a47"
   },
   "outputs": [
    {
     "name": "stdout",
     "output_type": "stream",
     "text": [
      "      Decision Tree\n",
      "\n",
      "Predicted   Ground Truth\n",
      "0           0\n",
      "0           0\n",
      "0           0\n",
      "2           2\n",
      "1           1\n",
      "0           0\n",
      "1           1\n",
      "0           0\n",
      "2           2\n",
      "0           0\n",
      "1           1\n",
      "1           1\n",
      "1           1\n",
      "2           2\n",
      "2           2\n",
      "0           0\n",
      "1           1\n",
      "0           0\n",
      "1           1\n",
      "2           2\n",
      "1           1\n",
      "0           0\n",
      "1           1\n",
      "2           2\n",
      "0           0\n",
      "1           2\n",
      "0           0\n",
      "2           2\n",
      "2           2\n",
      "1           1\n",
      "1           1\n",
      "2           2\n",
      "2           2\n",
      "1           1\n",
      "0           0\n"
     ]
    }
   ],
   "source": [
    "print(\"      Decision Tree\\n\")\n",
    "\n",
    "print(\"Predicted   Ground Truth\")\n",
    "\n",
    "for pred, true in zip(y_pred_dt, y_test):\n",
    "    print(pred, \"         \", true)"
   ]
  },
  {
   "cell_type": "code",
   "execution_count": 11,
   "metadata": {
    "colab": {
     "base_uri": "https://localhost:8080/"
    },
    "id": "vUDUFD2_Klxm",
    "outputId": "8df8f26c-778b-4410-e381-ee0a5369ba65"
   },
   "outputs": [
    {
     "name": "stdout",
     "output_type": "stream",
     "text": [
      "Decision Tree accuracy:  0.9714285714285714\n"
     ]
    }
   ],
   "source": [
    "print(\"Decision Tree accuracy: \", accuracy(y_pred_dt, y_test))"
   ]
  },
  {
   "cell_type": "code",
   "execution_count": 12,
   "metadata": {
    "id": "7nzAqv7WN8EI"
   },
   "outputs": [],
   "source": [
    "# create random forest and fit it on the data\n",
    "\n",
    "clf_rf = ensemble.RandomForestClassifier(max_depth=4)\n",
    "clf_rf = clf_rf.fit(X_train, y_train)"
   ]
  },
  {
   "cell_type": "code",
   "execution_count": 13,
   "metadata": {
    "id": "txFMkhLTOb_b"
   },
   "outputs": [],
   "source": [
    "y_pred_rf = clf_rf.predict(X_test)"
   ]
  },
  {
   "cell_type": "code",
   "execution_count": 14,
   "metadata": {
    "colab": {
     "base_uri": "https://localhost:8080/"
    },
    "id": "j28ici3_Owkl",
    "outputId": "8381310e-9025-44a3-e302-9d671da41653"
   },
   "outputs": [
    {
     "name": "stdout",
     "output_type": "stream",
     "text": [
      "      Random Forest\n",
      "\n",
      "Predicted   Ground Truth\n",
      "0           0\n",
      "0           0\n",
      "0           0\n",
      "2           2\n",
      "1           1\n",
      "0           0\n",
      "1           1\n",
      "0           0\n",
      "2           2\n",
      "0           0\n",
      "1           1\n",
      "1           1\n",
      "1           1\n",
      "2           2\n",
      "2           2\n",
      "0           0\n",
      "1           1\n",
      "0           0\n",
      "1           1\n",
      "2           2\n",
      "1           1\n",
      "0           0\n",
      "1           1\n",
      "2           2\n",
      "0           0\n",
      "2           2\n",
      "0           0\n",
      "2           2\n",
      "2           2\n",
      "1           1\n",
      "1           1\n",
      "2           2\n",
      "2           2\n",
      "1           1\n",
      "0           0\n"
     ]
    }
   ],
   "source": [
    "print(\"      Random Forest\\n\")\n",
    "\n",
    "print(\"Predicted   Ground Truth\")\n",
    "\n",
    "for pred, true in zip(y_pred_rf, y_test):\n",
    "    print(pred, \"         \", true)"
   ]
  },
  {
   "cell_type": "code",
   "execution_count": 15,
   "metadata": {
    "colab": {
     "base_uri": "https://localhost:8080/"
    },
    "id": "2vorIC6ePCHD",
    "outputId": "d23da805-1ead-4b36-c421-6f563d8aa3b9"
   },
   "outputs": [
    {
     "name": "stdout",
     "output_type": "stream",
     "text": [
      "Random Forest accuracy:  1.0\n"
     ]
    }
   ],
   "source": [
    "print(\"Random Forest accuracy: \", accuracy(y_pred_rf, y_test))"
   ]
  },
  {
   "cell_type": "code",
   "execution_count": 16,
   "metadata": {
    "id": "Waa6zc2FRP0r"
   },
   "outputs": [],
   "source": [
    "# create LightGBM model\n",
    "\n",
    "train_data = lgb.Dataset(X_train, y_train)"
   ]
  },
  {
   "cell_type": "code",
   "execution_count": 17,
   "metadata": {
    "id": "1kY4U2b1TuST"
   },
   "outputs": [],
   "source": [
    "param = {'objective': 'multiclass', 'num_classes': 3, 'learning_rate': 0.05}"
   ]
  },
  {
   "cell_type": "code",
   "execution_count": 18,
   "metadata": {
    "id": "tCTMZN2fVGBN"
   },
   "outputs": [],
   "source": [
    "#train LightGBM model\n",
    "\n",
    "num_round = 70\n",
    "bst = lgb.train(param, train_data, num_round)"
   ]
  },
  {
   "cell_type": "code",
   "execution_count": 19,
   "metadata": {
    "id": "calDOL-cVJ35"
   },
   "outputs": [],
   "source": [
    "y_pred_lgbm = bst.predict(X_test)\n",
    "y_pred_lgbm = [np.argmax(line) for line in y_pred_lgbm]"
   ]
  },
  {
   "cell_type": "code",
   "execution_count": 20,
   "metadata": {
    "colab": {
     "base_uri": "https://localhost:8080/"
    },
    "id": "2JwGk7snVfGF",
    "outputId": "9835b945-fe9e-4631-f95f-7e4d3325a453"
   },
   "outputs": [
    {
     "name": "stdout",
     "output_type": "stream",
     "text": [
      "      LightGBM\n",
      "\n",
      "Predicted   Ground Truth\n",
      "0           0\n",
      "0           0\n",
      "0           0\n",
      "2           2\n",
      "1           1\n",
      "0           0\n",
      "1           1\n",
      "0           0\n",
      "2           2\n",
      "0           0\n",
      "1           1\n",
      "1           1\n",
      "1           1\n",
      "2           2\n",
      "2           2\n",
      "0           0\n",
      "1           1\n",
      "0           0\n",
      "1           1\n",
      "2           2\n",
      "1           1\n",
      "0           0\n",
      "1           1\n",
      "2           2\n",
      "0           0\n",
      "2           2\n",
      "0           0\n",
      "2           2\n",
      "2           2\n",
      "1           1\n",
      "1           1\n",
      "2           2\n",
      "2           2\n",
      "1           1\n",
      "0           0\n"
     ]
    }
   ],
   "source": [
    "print(\"      LightGBM\\n\")\n",
    "\n",
    "print(\"Predicted   Ground Truth\")\n",
    "\n",
    "for pred, true in zip(y_pred_lgbm, y_test):\n",
    "    print(pred, \"         \", true)"
   ]
  },
  {
   "cell_type": "code",
   "execution_count": 21,
   "metadata": {
    "colab": {
     "base_uri": "https://localhost:8080/"
    },
    "id": "kzaYK9pXXESG",
    "outputId": "def48ec1-21b3-4fbd-fa60-5f0d4042c0b8"
   },
   "outputs": [
    {
     "name": "stdout",
     "output_type": "stream",
     "text": [
      "LightGBM accuracy:  1.0\n"
     ]
    }
   ],
   "source": [
    "print(\"LightGBM accuracy: \", accuracy(y_pred_lgbm, y_test))"
   ]
  }
 ],
 "metadata": {
  "colab": {
   "name": "Untitled2.ipynb",
   "provenance": []
  },
  "kernelspec": {
   "display_name": "Python 3",
   "language": "python",
   "name": "python3"
  },
  "language_info": {
   "codemirror_mode": {
    "name": "ipython",
    "version": 3
   },
   "file_extension": ".py",
   "mimetype": "text/x-python",
   "name": "python",
   "nbconvert_exporter": "python",
   "pygments_lexer": "ipython3",
   "version": "3.8.5"
  }
 },
 "nbformat": 4,
 "nbformat_minor": 1
}
